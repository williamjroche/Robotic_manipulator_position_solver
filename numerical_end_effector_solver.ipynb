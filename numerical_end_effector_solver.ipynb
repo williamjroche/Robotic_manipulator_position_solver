{
 "cells": [
  {
   "cell_type": "code",
   "execution_count": null,
   "id": "e2365bcc",
   "metadata": {},
   "outputs": [
    {
     "name": "stdout",
     "output_type": "stream",
     "text": [
      "DHRobot: test1, 4 joints (RRRR), dynamics, standard DH parameters\n",
      "┌─────┬────┬─────┬────────┐\n",
      "│ θⱼ  │ dⱼ │ aⱼ  │   ⍺ⱼ   │\n",
      "├─────┼────┼─────┼────────┤\n",
      "│  q1 │  0 │   0 │   0.0° │\n",
      "│  q2 │  0 │   0 │ -90.0° │\n",
      "│  q3 │  0 │ 0.3 │   0.0° │\n",
      "│  q4 │  0 │ 0.2 │   0.0° │\n",
      "└─────┴────┴─────┴────────┘\n",
      "\n",
      "┌──┬──┐\n",
      "└──┴──┘\n",
      "\n",
      "Joints 1-4 angles in degrees:  [-173.22122868  -56.8285165    99.37986389 -155.12619404]\n"
     ]
    }
   ],
   "source": [
    "import roboticstoolbox as rtb\n",
    "import numpy as np\n",
    "from spatialmath import SE3\n",
    "\n",
    "L1 = (.3) #Length of link 1 is 1/3 meter\n",
    "L2 = (.2) #Length of link 2 is 1/6 meter\n",
    "\n",
    "#set up DH parameters\n",
    "three_link_robot = rtb.DHRobot([\n",
    "    rtb.RevoluteDH(alpha = 0, a = 0, d = 0),\n",
    "    rtb.RevoluteDH(alpha = -np.pi/2, a = 0, d = 0),\n",
    "    rtb.RevoluteDH(alpha = 0, a = L1, d = 0),\n",
    "    rtb.RevoluteDH(alpha = 0, a = L2, d = 0)\n",
    "], name = \"test1\")\n",
    "\n",
    "#show DH table\n",
    "print(three_link_robot)\n",
    "\n",
    "#goal pose - SE3(x in meters, y in meters, z in meters)\n",
    "end_effector_pose = SE3(0.05,0.04,0.01)\n",
    "\n",
    "#solve IK using Levemberg-Marquadt Numerical method\n",
    "ik_solution = three_link_robot.ik_LM(end_effector_pose)\n",
    "\n",
    "#convert angles to degrees\n",
    "joints_angles = ik_solution[0] * (180/(np.pi))\n",
    "\n",
    "#print results\n",
    "print(\"Joints 1-4 angles in degrees: \", joints_angles)\n"
   ]
  }
 ],
 "metadata": {
  "kernelspec": {
   "display_name": "rtbpython",
   "language": "python",
   "name": "python3"
  },
  "language_info": {
   "codemirror_mode": {
    "name": "ipython",
    "version": 3
   },
   "file_extension": ".py",
   "mimetype": "text/x-python",
   "name": "python",
   "nbconvert_exporter": "python",
   "pygments_lexer": "ipython3",
   "version": "3.12.12"
  }
 },
 "nbformat": 4,
 "nbformat_minor": 5
}
