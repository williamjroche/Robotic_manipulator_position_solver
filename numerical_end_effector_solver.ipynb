{
 "cells": [
  {
   "cell_type": "code",
   "execution_count": null,
   "id": "e2365bcc",
   "metadata": {},
   "outputs": [
    {
     "name": "stdout",
     "output_type": "stream",
     "text": [
      "DHRobot: test1, 4 joints (RRRR), dynamics, standard DH parameters\n",
      "┌─────┬────┬────┬────────┐\n",
      "│ θⱼ  │ dⱼ │ aⱼ │   ⍺ⱼ   │\n",
      "├─────┼────┼────┼────────┤\n",
      "│  q1 │  0 │  0 │   0.0° │\n",
      "│  q2 │  0 │  0 │ -90.0° │\n",
      "│  q3 │  0 │  6 │   0.0° │\n",
      "│  q4 │  0 │  3 │   0.0° │\n",
      "└─────┴────┴────┴────────┘\n",
      "\n",
      "┌──┬──┐\n",
      "└──┴──┘\n",
      "\n"
     ]
    }
   ],
   "source": [
    "import roboticstoolbox as rtb\n",
    "import numpy as np\n",
    "import spatialmath.base as base\n",
    "phi, theta, psi = base.sym.symbol('φ, ϴ, ψ')\n",
    "\n",
    "L1 = 6 #Length of link 1 is 6inches\n",
    "L2 = 3 #Length of link 2 is 3inches\n",
    "\n",
    "#set up DH parameters\n",
    "three_link_robot = rtb.DHRobot([\n",
    "    rtb.RevoluteDH(alpha = 0, a = 0, d = 0),\n",
    "    rtb.RevoluteDH(alpha = -np.pi/2, a = 0, d = 0),\n",
    "    rtb.RevoluteDH(alpha = 0, a = L1, d = 0),\n",
    "    rtb.RevoluteDH(alpha = 0, a = L2, d = 0)\n",
    "], name = \"test1\")\n",
    "\n",
    "#show DH table\n",
    "print(three_link_robot)\n",
    "\n",
    "#Levemberg-Marquadt method for Numerical IK\n",
    "solver = rtb.IK_LM()\n",
    "\n",
    "\n"
   ]
  }
 ],
 "metadata": {
  "kernelspec": {
   "display_name": "rtbpython",
   "language": "python",
   "name": "python3"
  },
  "language_info": {
   "codemirror_mode": {
    "name": "ipython",
    "version": 3
   },
   "file_extension": ".py",
   "mimetype": "text/x-python",
   "name": "python",
   "nbconvert_exporter": "python",
   "pygments_lexer": "ipython3",
   "version": "3.12.12"
  }
 },
 "nbformat": 4,
 "nbformat_minor": 5
}
